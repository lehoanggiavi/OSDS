{
 "cells": [
  {
   "cell_type": "code",
   "execution_count": 7,
   "metadata": {},
   "outputs": [],
   "source": [
    "import sqlite3\n",
    "from tkinter import *\n",
    "from tkinter import messagebox\n",
    "from tkinter import ttk\n",
    " "
   ]
  },
  {
   "cell_type": "code",
   "execution_count": 8,
   "metadata": {},
   "outputs": [
    {
     "data": {
      "text/plain": [
       "''"
      ]
     },
     "execution_count": 8,
     "metadata": {},
     "output_type": "execute_result"
    }
   ],
   "source": [
    "root = Tk()\n",
    "root.title(\"He thong quan ly dia chi\")\n",
    "root.geometry(\"600x800\")\n",
    "# root.mainloop()"
   ]
  },
  {
   "cell_type": "code",
   "execution_count": 9,
   "metadata": {},
   "outputs": [],
   "source": [
    "# Ket noi den db\n",
    "conn = sqlite3.connect(\"address_book01.db\")\n",
    "\n",
    "# Tao con tro\n",
    "c = conn.cursor()\n",
    "\n",
    "# # Tao bang de luu tru\n",
    "# c.execute('''\n",
    "#     CREATE TABLE Addresses(\n",
    "#         id INTEGER PRIMARY KEY AUTOINCREMENT,\n",
    "#         first_name text,\n",
    "#         last_name text,\n",
    "#         address text,\n",
    "#         city text,\n",
    "#         state text,\n",
    "#         zipcode interger\n",
    "#     )\n",
    "# ''')"
   ]
  },
  {
   "cell_type": "code",
   "execution_count": 10,
   "metadata": {},
   "outputs": [
    {
     "name": "stdout",
     "output_type": "stream",
     "text": [
      "\n",
      "\n",
      "\n",
      "\n",
      "\n",
      "\n",
      "\n",
      "\n",
      "\n",
      "\n",
      "\n",
      "\n",
      "\n"
     ]
    }
   ],
   "source": [
    "# # Ket noi den db\n",
    "# conn = sqlite3.connect(\"AddressBook.db\")\n",
    "\n",
    "# # Tao con tro\n",
    "# c = conn.cursor()\n",
    "\n",
    "def them():\n",
    "     print(\"\")\n",
    "\n",
    "def xoa():\n",
    "    print(\"\")\n",
    "\n",
    "def cap_nhat():\n",
    "    print(\"\")\n",
    "\n",
    "def truy_van():\n",
    "    print(\"\")\n",
    "\n",
    "def chinh_sua():\n",
    "    print(\"\")\n",
    "\n",
    "\n",
    "\n",
    "# Khung cho các ô nhập liệu\n",
    "input_frame = Frame(root)\n",
    "input_frame.pack(pady=10)\n",
    "\n",
    "# Các ô nhập liệu cho cửa sổ chính\n",
    "f_name = Entry(input_frame, width=30)\n",
    "f_name.grid(row=0, column=1, padx=20, pady=(10, 0))\n",
    "l_name = Entry(input_frame, width=30)\n",
    "l_name.grid(row=1, column=1)\n",
    "address = Entry(input_frame, width=30)\n",
    "address.grid(row=2, column=1)\n",
    "city = Entry(input_frame, width=30)\n",
    "city.grid(row=3, column=1)\n",
    "state = Entry(input_frame, width=30)\n",
    "state.grid(row=4, column=1)\n",
    "zipcode = Entry(input_frame, width=30)\n",
    "zipcode.grid(row=5, column=1)\n",
    "\n",
    "# Các nhãn\n",
    "f_name_label = Label(input_frame, text=\"Họ\")\n",
    "f_name_label.grid(row=0, column=0, pady=(10, 0))\n",
    "l_name_label = Label(input_frame, text=\"Tên\")\n",
    "l_name_label.grid(row=1, column=0)\n",
    "address_label = Label(input_frame, text=\"Địa chỉ\")\n",
    "address_label.grid(row=2, column=0)\n",
    "city_label = Label(input_frame, text=\"Thành phố\")\n",
    "city_label.grid(row=3, column=0)\n",
    "state_label = Label(input_frame, text=\"Tỉnh/Thành\")\n",
    "state_label.grid(row=4, column=0)\n",
    "zipcode_label = Label(input_frame, text=\"Mã bưu chính\")\n",
    "zipcode_label.grid(row=5, column=0)\n",
    "\n",
    "# Khung cho các nút chức năng\n",
    "button_frame = Frame(root)\n",
    "button_frame.pack(pady=10)\n",
    "\n",
    "# Các nút chức năng\n",
    "submit_btn = Button(button_frame, text=\"Thêm bản ghi\", command=them)\n",
    "submit_btn.grid(row=0, column=0, columnspan=2, pady=10, padx=10, ipadx=100)\n",
    "query_btn = Button(button_frame, text=\"Hiển thị bản ghi\", command=truy_van)\n",
    "query_btn.grid(row=1, column=0, columnspan=2, pady=10, padx=10, ipadx=137)\n",
    "delete_box_label = Label(button_frame, text=\"Chọn ID để xóa\")\n",
    "delete_box_label.grid(row=2, column=0, pady=5)\n",
    "delete_box = Entry(button_frame, width=30)\n",
    "delete_box.grid(row=2, column=1, pady=5)\n",
    "delete_btn = Button(button_frame, text=\"Xóa bản ghi\", command=xoa)\n",
    "delete_btn.grid(row=3, column=0, columnspan=2, pady=10, padx=10, ipadx=136)\n",
    "edit_btn = Button(button_frame, text=\"Chỉnh sửa bản ghi\", command=chinh_sua)\n",
    "edit_btn.grid(row=4, column=0, columnspan=2, pady=10, padx=10, ipadx=125)\n",
    "\n",
    "# Khung cho Treeview\n",
    "tree_frame = Frame(root)\n",
    "tree_frame.pack(pady=10)\n",
    "\n",
    "# Treeview để hiển thị bản ghi\n",
    "columns = (\"ID\", \"Họ\", \"Tên\")\n",
    "tree = ttk.Treeview(tree_frame, columns=columns, show=\"headings\", height=15)\n",
    "tree.pack()\n",
    "\n",
    "# Định nghĩa tiêu đề cho các cột\n",
    "for col in columns:\n",
    "    tree.heading(col, text=col)\n",
    "\n",
    "# Gọi hàm truy vấn để hiển thị bản ghi khi khởi động\n",
    "truy_van()\n",
    "\n",
    "root.mainloop()"
   ]
  },
  {
   "cell_type": "code",
   "execution_count": 7,
   "metadata": {},
   "outputs": [],
   "source": []
  },
  {
   "cell_type": "code",
   "execution_count": null,
   "metadata": {},
   "outputs": [],
   "source": []
  },
  {
   "cell_type": "code",
   "execution_count": null,
   "metadata": {},
   "outputs": [],
   "source": []
  }
 ],
 "metadata": {
  "kernelspec": {
   "display_name": "Python 3",
   "language": "python",
   "name": "python3"
  },
  "language_info": {
   "codemirror_mode": {
    "name": "ipython",
    "version": 3
   },
   "file_extension": ".py",
   "mimetype": "text/x-python",
   "name": "python",
   "nbconvert_exporter": "python",
   "pygments_lexer": "ipython3",
   "version": "3.10.11"
  }
 },
 "nbformat": 4,
 "nbformat_minor": 2
}
