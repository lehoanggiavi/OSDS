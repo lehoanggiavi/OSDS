{
 "cells": [
  {
   "cell_type": "code",
   "execution_count": 38,
   "metadata": {},
   "outputs": [],
   "source": [
    "import sqlite3\n",
    "from tkinter import *\n",
    "from tkinter import messagebox\n",
    "from tkinter import ttk\n",
    "\n"
   ]
  },
  {
   "cell_type": "code",
   "execution_count": 39,
   "metadata": {},
   "outputs": [
    {
     "data": {
      "text/plain": [
       "''"
      ]
     },
     "execution_count": 39,
     "metadata": {},
     "output_type": "execute_result"
    }
   ],
   "source": [
    "root = Tk()\n",
    "root.title(\"He thong quan ly sinh vien\")\n",
    "root.geometry(\"600x800\")\n",
    "# root.mainloop()"
   ]
  },
  {
   "cell_type": "code",
   "execution_count": 40,
   "metadata": {},
   "outputs": [],
   "source": [
    "# Tao 1 ket noi den database\n",
    "conn = sqlite3.connect(\"SinhVien.db\")\n",
    "\n",
    "# Tao ra doi tuong con tro\n",
    "cur = conn.cursor()\n",
    "\n"
   ]
  },
  {
   "cell_type": "code",
   "execution_count": 41,
   "metadata": {},
   "outputs": [],
   "source": [
    "# # Tao bang trong sql\n",
    "# sql = (\"\"\"\n",
    "#     Create Table sinh_vien(\n",
    "#     masinhvien varchar(10) Not Null Auto_Increment ,\n",
    "#     ho varchar(50),\n",
    "#     ten varchar(50),\n",
    "#     malop varchar(50),\n",
    "#     namnhaphoc integer,\n",
    "#     diemtb double,\n",
    "#     Primary Key (masinhvien)\n",
    "#     )\n",
    "# \"\"\" )\n",
    "\n",
    "# cur.execute(sql)\n",
    "# # conn.close()\n",
    "\n"
   ]
  },
  {
   "cell_type": "code",
   "execution_count": 42,
   "metadata": {},
   "outputs": [
    {
     "name": "stdout",
     "output_type": "stream",
     "text": [
      "[('01', 'Le', 'Vi', '22DKHA1', 2022, 8.0)]\n",
      "\n"
     ]
    }
   ],
   "source": [
    "def them():\n",
    "     print(\"\")\n",
    "\n",
    "def xoa():\n",
    "    print(\"\")\n",
    "\n",
    "def cap_nhat():\n",
    "    print(\"\")\n",
    "\n",
    "def truy_van():\n",
    "    # Xóa đi các dữ liệu trong TreeView\n",
    "    for row in tree.get_children():\n",
    "        tree.delete(row)\n",
    "\n",
    "    # Kết nối và lấy dữ liệu\n",
    "    conn = sqlite3.connect('SinhVien.db')\n",
    "    curr = conn.cursor()\n",
    "    curr.execute(\"SELECT * FROM sinh_vien\")\n",
    "    result = curr.fetchall()\n",
    "    print(result)\n",
    "\n",
    "    # Hien thi du lieu\n",
    "    for r in result:\n",
    "        tree.insert(\"\", END, values=(r[0], r[1], r[2]))\n",
    "\n",
    "    # Ngat ket noi\n",
    "    conn.close()\n",
    "    print(\"\")\n",
    "\n",
    "def chinh_sua():\n",
    "    print(\"\")\n",
    "\n",
    "# Khung cho các ô nhập liệu\n",
    "input_frame = Frame(root)\n",
    "input_frame.pack(pady=10)\n",
    "\n",
    "# Các ô nhập liệu cho cửa sổ chính\n",
    "id = Entry(input_frame, width=30)\n",
    "id.grid(row=1, column=1)\n",
    "l_name = Entry(input_frame, width=30)\n",
    "l_name.grid(row=0, column=1, padx=20, pady=(10, 0))\n",
    "name = Entry(input_frame, width=30)\n",
    "name.grid(row=2, column=1)\n",
    "class_id = Entry(input_frame, width=30)\n",
    "class_id.grid(row=3, column=1)\n",
    "year_enroll = Entry(input_frame, width=30)\n",
    "year_enroll.grid(row=4, column=1)\n",
    "average_point = Entry(input_frame, width=30)\n",
    "average_point.grid(row=5, column=1)\n",
    "\n",
    "# Các nhãn\n",
    "id_label = Label(input_frame, text=\"Mã sinh viên\")\n",
    "id_label.grid(row=0, column=0, pady=(10, 0))\n",
    "lastname_label = Label(input_frame, text=\"Họ\")\n",
    "lastname_label.grid(row=1, column=0)\n",
    "name_label = Label(input_frame, text=\"Tên\")\n",
    "name_label.grid(row=2, column=0)\n",
    "class_id_label = Label(input_frame, text=\"Mã lớp\")\n",
    "class_id_label.grid(row=3, column=0)\n",
    "year_enroll_label = Label(input_frame, text=\"Năm nhập học\")\n",
    "year_enroll_label.grid(row=4, column=0)\n",
    "average_point_label = Label(input_frame, text=\"Điểm trung bình\")\n",
    "average_point_label.grid(row=5, column=0)\n",
    "\n",
    "# Khung cho các nút chức năng\n",
    "button_frame = Frame(root)\n",
    "button_frame.pack(pady=10)\n",
    "\n",
    "# Các nút chức năng\n",
    "submit_btn = Button(button_frame, text=\"Thêm bản ghi\", command=them)\n",
    "submit_btn.grid(row=0, column=0, columnspan=2, pady=10, padx=10, ipadx=100)\n",
    "query_btn = Button(button_frame, text=\"Hiển thị bản ghi\", command=truy_van)\n",
    "query_btn.grid(row=1, column=0, columnspan=2, pady=10, padx=10, ipadx=137)\n",
    "delete_box_label = Label(button_frame, text=\"Chọn ID\")\n",
    "delete_box_label.grid(row=2, column=0, pady=5)\n",
    "delete_box = Entry(button_frame, width=30)\n",
    "delete_box.grid(row=2, column=1, pady=5)\n",
    "delete_btn = Button(button_frame, text=\"Xóa bản ghi\", command=xoa)\n",
    "delete_btn.grid(row=3, column=0, columnspan=2, pady=10, padx=10, ipadx=136)\n",
    "edit_btn = Button(button_frame, text=\"Chỉnh sửa bản ghi\", command=chinh_sua)\n",
    "edit_btn.grid(row=4, column=0, columnspan=2, pady=10, padx=10, ipadx=125)\n",
    "\n",
    "# Khung cho Treeview\n",
    "tree_frame = Frame(root)\n",
    "tree_frame.pack(pady=10)\n",
    "\n",
    "# Treeview để hiển thị bản ghi\n",
    "columns = (\"ID\", \"Họ\", \"Tên\")\n",
    "tree = ttk.Treeview(tree_frame, columns=columns, show=\"headings\", height=15)\n",
    "tree.pack()\n",
    "\n",
    "# Định nghĩa tiêu đề cho các cột\n",
    "for col in columns:\n",
    "    tree.heading(col, text=col)\n",
    "\n",
    "# Gọi hàm truy vấn để hiển thị bản ghi khi khởi động\n",
    "truy_van()\n",
    "\n",
    "root.mainloop()"
   ]
  }
 ],
 "metadata": {
  "kernelspec": {
   "display_name": "Python 3",
   "language": "python",
   "name": "python3"
  },
  "language_info": {
   "codemirror_mode": {
    "name": "ipython",
    "version": 3
   },
   "file_extension": ".py",
   "mimetype": "text/x-python",
   "name": "python",
   "nbconvert_exporter": "python",
   "pygments_lexer": "ipython3",
   "version": "3.10.11"
  }
 },
 "nbformat": 4,
 "nbformat_minor": 2
}
